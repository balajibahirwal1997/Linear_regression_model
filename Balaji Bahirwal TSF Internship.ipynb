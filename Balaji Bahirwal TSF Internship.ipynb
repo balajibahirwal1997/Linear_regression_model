{
 "cells": [
  {
   "cell_type": "code",
   "execution_count": 2,
   "id": "aad00607",
   "metadata": {},
   "outputs": [],
   "source": [
    "## The Sparks Foundation Internship\n",
    "# GRIPAPRIL21\n",
    "# Data science\n",
    "# Author : Balaji Bahirwal"
   ]
  },
  {
   "cell_type": "code",
   "execution_count": null,
   "id": "2e484356",
   "metadata": {},
   "outputs": [],
   "source": [
    "# task-1, Simple Linear Regression model using Supervised ML"
   ]
  },
  {
   "cell_type": "code",
   "execution_count": 3,
   "id": "18f8d2eb",
   "metadata": {},
   "outputs": [],
   "source": [
    "setwd(\"C:/Users/DATTATA/Desktop/Balaji\")"
   ]
  },
  {
   "cell_type": "code",
   "execution_count": 4,
   "id": "14ab5066",
   "metadata": {},
   "outputs": [
    {
     "data": {
      "text/html": [
       "'C:/Users/DATTATA/Desktop/Balaji'"
      ],
      "text/latex": [
       "'C:/Users/DATTATA/Desktop/Balaji'"
      ],
      "text/markdown": [
       "'C:/Users/DATTATA/Desktop/Balaji'"
      ],
      "text/plain": [
       "[1] \"C:/Users/DATTATA/Desktop/Balaji\""
      ]
     },
     "metadata": {},
     "output_type": "display_data"
    }
   ],
   "source": [
    "getwd()"
   ]
  },
  {
   "cell_type": "code",
   "execution_count": 5,
   "id": "90426232",
   "metadata": {},
   "outputs": [],
   "source": [
    "studentscores=read.csv(\"student_scores - student_scores.csv\")"
   ]
  },
  {
   "cell_type": "code",
   "execution_count": 6,
   "id": "58c82e02",
   "metadata": {},
   "outputs": [
    {
     "data": {
      "text/html": [
       "<table>\n",
       "<thead><tr><th scope=col>Hours</th><th scope=col>Scores</th></tr></thead>\n",
       "<tbody>\n",
       "\t<tr><td>2.5</td><td>21 </td></tr>\n",
       "\t<tr><td>5.1</td><td>47 </td></tr>\n",
       "\t<tr><td>3.2</td><td>27 </td></tr>\n",
       "\t<tr><td>8.5</td><td>75 </td></tr>\n",
       "\t<tr><td>3.5</td><td>30 </td></tr>\n",
       "\t<tr><td>1.5</td><td>20 </td></tr>\n",
       "</tbody>\n",
       "</table>\n"
      ],
      "text/latex": [
       "\\begin{tabular}{r|ll}\n",
       " Hours & Scores\\\\\n",
       "\\hline\n",
       "\t 2.5 & 21 \\\\\n",
       "\t 5.1 & 47 \\\\\n",
       "\t 3.2 & 27 \\\\\n",
       "\t 8.5 & 75 \\\\\n",
       "\t 3.5 & 30 \\\\\n",
       "\t 1.5 & 20 \\\\\n",
       "\\end{tabular}\n"
      ],
      "text/markdown": [
       "\n",
       "| Hours | Scores |\n",
       "|---|---|\n",
       "| 2.5 | 21  |\n",
       "| 5.1 | 47  |\n",
       "| 3.2 | 27  |\n",
       "| 8.5 | 75  |\n",
       "| 3.5 | 30  |\n",
       "| 1.5 | 20  |\n",
       "\n"
      ],
      "text/plain": [
       "  Hours Scores\n",
       "1 2.5   21    \n",
       "2 5.1   47    \n",
       "3 3.2   27    \n",
       "4 8.5   75    \n",
       "5 3.5   30    \n",
       "6 1.5   20    "
      ]
     },
     "metadata": {},
     "output_type": "display_data"
    }
   ],
   "source": [
    "head(studentscores)"
   ]
  },
  {
   "cell_type": "code",
   "execution_count": 10,
   "id": "d2d2ef46",
   "metadata": {},
   "outputs": [],
   "source": [
    "hours=studentscores$Hours"
   ]
  },
  {
   "cell_type": "code",
   "execution_count": 11,
   "id": "3cba54a2",
   "metadata": {},
   "outputs": [],
   "source": [
    "score=studentscores$Scores"
   ]
  },
  {
   "cell_type": "code",
   "execution_count": 17,
   "id": "aa35030b",
   "metadata": {},
   "outputs": [
    {
     "data": {
      "image/png": "[encoded data removed]",
      "text/plain": [
       "Plot with title \"hours v/s score\""
      ]
     },
     "metadata": {},
     "output_type": "display_data"
    }
   ],
   "source": [
    "plot(hours,score,pch= 16,cex=1,col=\"green\",main ='hours v/s score',xlab = 'hours',ylab = 'score')\n",
    "abline(linearmodel)"
   ]
  },
  {
   "cell_type": "code",
   "execution_count": 14,
   "id": "bb59f3e0",
   "metadata": {},
   "outputs": [
    {
     "data": {
      "text/plain": [
       "\n",
       "Call:\n",
       "lm(formula = score ~ hours)\n",
       "\n",
       "Coefficients:\n",
       "(Intercept)        hours  \n",
       "      2.484        9.776  \n"
      ]
     },
     "metadata": {},
     "output_type": "display_data"
    }
   ],
   "source": [
    "linearmodel=lm(score~hours)\n",
    "linearmodel"
   ]
  },
  {
   "cell_type": "code",
   "execution_count": 15,
   "id": "f04f3893",
   "metadata": {},
   "outputs": [
    {
     "data": {
      "text/plain": [
       "\n",
       "Call:\n",
       "lm(formula = score ~ hours)\n",
       "\n",
       "Residuals:\n",
       "    Min      1Q  Median      3Q     Max \n",
       "-10.578  -5.340   1.839   4.593   7.265 \n",
       "\n",
       "Coefficients:\n",
       "            Estimate Std. Error t value Pr(>|t|)    \n",
       "(Intercept)   2.4837     2.5317   0.981    0.337    \n",
       "hours         9.7758     0.4529  21.583   <2e-16 ***\n",
       "---\n",
       "Signif. codes:  0 '***' 0.001 '**' 0.01 '*' 0.05 '.' 0.1 ' ' 1\n",
       "\n",
       "Residual standard error: 5.603 on 23 degrees of freedom\n",
       "Multiple R-squared:  0.9529,\tAdjusted R-squared:  0.9509 \n",
       "F-statistic: 465.8 on 1 and 23 DF,  p-value: < 2.2e-16\n"
      ]
     },
     "metadata": {},
     "output_type": "display_data"
    }
   ],
   "source": [
    "summary(linearmodel)"
   ]
  },
  {
   "cell_type": "code",
   "execution_count": 16,
   "id": "32f20faf",
   "metadata": {},
   "outputs": [
    {
     "data": {
      "text/html": [
       "<dl class=dl-horizontal>\n",
       "\t<dt>(Intercept)</dt>\n",
       "\t\t<dd>2.48367340537318</dd>\n",
       "\t<dt>hours</dt>\n",
       "\t\t<dd>9.77580339078747</dd>\n",
       "</dl>\n"
      ],
      "text/latex": [
       "\\begin{description*}\n",
       "\\item[(Intercept)] 2.48367340537318\n",
       "\\item[hours] 9.77580339078747\n",
       "\\end{description*}\n"
      ],
      "text/markdown": [
       "(Intercept)\n",
       ":   2.48367340537318hours\n",
       ":   9.77580339078747\n",
       "\n"
      ],
      "text/plain": [
       "(Intercept)       hours \n",
       "   2.483673    9.775803 "
      ]
     },
     "metadata": {},
     "output_type": "display_data"
    }
   ],
   "source": [
    "coef(linearmodel)"
   ]
  },
  {
   "cell_type": "code",
   "execution_count": null,
   "id": "fe4478f1",
   "metadata": {},
   "outputs": [],
   "source": [
    "# what will be predicted score if a student studies for 9.25 hours a day ?"
   ]
  },
  {
   "cell_type": "code",
   "execution_count": 18,
   "id": "3768efa4",
   "metadata": {},
   "outputs": [],
   "source": [
    "score1=data.frame(hours=9.25)"
   ]
  },
  {
   "cell_type": "code",
   "execution_count": 19,
   "id": "89847dd7",
   "metadata": {},
   "outputs": [
    {
     "data": {
      "text/html": [
       "<strong>1:</strong> 92.9098547701573"
      ],
      "text/latex": [
       "\\textbf{1:} 92.9098547701573"
      ],
      "text/markdown": [
       "**1:** 92.9098547701573"
      ],
      "text/plain": [
       "       1 \n",
       "92.90985 "
      ]
     },
     "metadata": {},
     "output_type": "display_data"
    }
   ],
   "source": [
    "predict(linearmodel,score1)"
   ]
  },
  {
   "cell_type": "code",
   "execution_count": null,
   "id": "120b1e6a",
   "metadata": {},
   "outputs": [],
   "source": []
  }
 ],
 "metadata": {
  "kernelspec": {
   "display_name": "R",
   "language": "R",
   "name": "ir"
  },
  "language_info": {
   "codemirror_mode": "r",
   "file_extension": ".r",
   "mimetype": "text/x-r-source",
   "name": "R",
   "pygments_lexer": "r",
   "version": "3.6.1"
  }
 },
 "nbformat": 4,
 "nbformat_minor": 5
}
